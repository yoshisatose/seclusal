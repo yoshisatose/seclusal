{
 "cells": [
  {
   "cell_type": "code",
   "execution_count": 1,
   "id": "96c07fb0",
   "metadata": {
    "ExecuteTime": {
     "end_time": "2023-05-19T22:31:30.359618Z",
     "start_time": "2023-05-19T22:31:30.021891Z"
    }
   },
   "outputs": [],
   "source": [
    "import numpy as np\n",
    "import pandas as pd"
   ]
  },
  {
   "cell_type": "code",
   "execution_count": 2,
   "id": "95dda38b",
   "metadata": {
    "ExecuteTime": {
     "end_time": "2023-05-19T22:31:30.375307Z",
     "start_time": "2023-05-19T22:31:30.359618Z"
    }
   },
   "outputs": [
    {
     "data": {
      "text/plain": [
       "'1.24.3'"
      ]
     },
     "execution_count": 2,
     "metadata": {},
     "output_type": "execute_result"
    }
   ],
   "source": [
    "np.__version__"
   ]
  },
  {
   "cell_type": "code",
   "execution_count": null,
   "id": "3c8f70e0",
   "metadata": {},
   "outputs": [],
   "source": []
  },
  {
   "cell_type": "code",
   "execution_count": 3,
   "id": "374e9c1d",
   "metadata": {
    "ExecuteTime": {
     "end_time": "2023-05-19T22:31:30.391013Z",
     "start_time": "2023-05-19T22:31:30.377336Z"
    }
   },
   "outputs": [],
   "source": [
    "n = 4000\n",
    "np.random.seed(1234)\n",
    "\n",
    "age = np.random.randint(low=20, high=80, size=n)\n",
    "monthly_charges = np.random.randint(low=0, high=3000, size=n)\n",
    "tenure = (np.random.randint(low=0, high=40, size=n) + age / 2 - 9).astype('int')\n",
    "n_monthly_visits = np.random.randint(low=0, high=10, size=n)\n",
    "monthly_products = np.maximum(1, (monthly_charges + np.random.randn(n) * 500) // 250)\n",
    "total_charges = np.round(monthly_charges * (np.random.rand(n) + 0.5) * tenure, 2)\n",
    "irrelevant_1 = np.round(np.random.rand(n), 2)\n",
    "irrelevant_2 = np.round(np.random.randn(n), 2)"
   ]
  },
  {
   "cell_type": "code",
   "execution_count": 4,
   "id": "5d275905",
   "metadata": {
    "ExecuteTime": {
     "end_time": "2023-05-19T22:31:30.406765Z",
     "start_time": "2023-05-19T22:31:30.395009Z"
    }
   },
   "outputs": [],
   "source": [
    "def min_median_max(vec):\n",
    "    print(f'min = {np.min(vec)}, median = {np.median(vec)}, max = {np.max(vec)}')"
   ]
  },
  {
   "cell_type": "code",
   "execution_count": 5,
   "id": "4a9e2eec",
   "metadata": {
    "ExecuteTime": {
     "end_time": "2023-05-19T22:31:30.421708Z",
     "start_time": "2023-05-19T22:31:30.408751Z"
    }
   },
   "outputs": [
    {
     "name": "stdout",
     "output_type": "stream",
     "text": [
      "age\n",
      "min = 20, median = 50.0, max = 79\n",
      "monthly_charges\n",
      "min = 0, median = 1496.0, max = 2998\n",
      "tenure\n",
      "min = 1, median = 35.0, max = 69\n",
      "n_monthly_visits\n",
      "min = 0, median = 5.0, max = 9\n",
      "monthly_products\n",
      "min = 1.0, median = 5.0, max = 17.0\n",
      "total_charges\n",
      "min = 0.0, median = 41061.36, max = 279094.67\n",
      "irrelevant_1\n",
      "min = 0.0, median = 0.49, max = 1.0\n",
      "irrelevant_2\n",
      "min = -3.9, median = -0.04, max = 3.6\n"
     ]
    }
   ],
   "source": [
    "for var in ['age', 'monthly_charges', 'tenure', 'n_monthly_visits', 'monthly_products', 'total_charges',\n",
    "            'irrelevant_1', 'irrelevant_2']:\n",
    "    print(var)\n",
    "    min_median_max(eval(var))"
   ]
  },
  {
   "cell_type": "code",
   "execution_count": 6,
   "id": "88806909",
   "metadata": {
    "ExecuteTime": {
     "end_time": "2023-05-19T22:31:30.437639Z",
     "start_time": "2023-05-19T22:31:30.422912Z"
    }
   },
   "outputs": [
    {
     "name": "stdout",
     "output_type": "stream",
     "text": [
      "min = -0.42354339079424425, median = 0.24824395851282655, max = 1.6432398225152607\n"
     ]
    }
   ],
   "source": [
    "churn_prob = ((age - 50) / 30)**2 \\\n",
    "    + ((age - 50) / 30) * ((monthly_charges - 1500) / 1500) * 0.5 \\\n",
    "    + n_monthly_visits * (-0.05) \\\n",
    "    + tenure * 0.005 \\\n",
    "    + np.random.rand(n) / 20\n",
    "min_median_max(churn_prob)"
   ]
  },
  {
   "cell_type": "code",
   "execution_count": 7,
   "id": "bc15bf60",
   "metadata": {
    "ExecuteTime": {
     "end_time": "2023-05-19T22:31:30.453623Z",
     "start_time": "2023-05-19T22:31:30.440630Z"
    }
   },
   "outputs": [
    {
     "name": "stdout",
     "output_type": "stream",
     "text": [
      "min = 0.0, median = 0.32504006466713514, max = 1.0\n"
     ]
    }
   ],
   "source": [
    "churn_prob = (churn_prob - churn_prob.min()) / (churn_prob.max() - churn_prob.min())\n",
    "min_median_max(churn_prob)"
   ]
  },
  {
   "cell_type": "code",
   "execution_count": 8,
   "id": "d784a23a",
   "metadata": {
    "ExecuteTime": {
     "end_time": "2023-05-19T22:31:30.469493Z",
     "start_time": "2023-05-19T22:31:30.455619Z"
    }
   },
   "outputs": [],
   "source": [
    "features = {}\n",
    "for var in ['age', 'monthly_charges', 'tenure', 'n_monthly_visits', 'monthly_products', 'total_charges',\n",
    "            'irrelevant_1', 'irrelevant_2']:\n",
    "    features[var] = eval(var)\n",
    "X = pd.DataFrame(features)\n",
    "y = pd.Series(np.where(churn_prob > 0.5, 1, 0))"
   ]
  },
  {
   "cell_type": "code",
   "execution_count": 9,
   "id": "be514479",
   "metadata": {
    "ExecuteTime": {
     "end_time": "2023-05-19T22:31:30.485449Z",
     "start_time": "2023-05-19T22:31:30.470489Z"
    }
   },
   "outputs": [
    {
     "data": {
      "text/html": [
       "<div>\n",
       "<style scoped>\n",
       "    .dataframe tbody tr th:only-of-type {\n",
       "        vertical-align: middle;\n",
       "    }\n",
       "\n",
       "    .dataframe tbody tr th {\n",
       "        vertical-align: top;\n",
       "    }\n",
       "\n",
       "    .dataframe thead th {\n",
       "        text-align: right;\n",
       "    }\n",
       "</style>\n",
       "<table border=\"1\" class=\"dataframe\">\n",
       "  <thead>\n",
       "    <tr style=\"text-align: right;\">\n",
       "      <th></th>\n",
       "      <th>age</th>\n",
       "      <th>monthly_charges</th>\n",
       "      <th>tenure</th>\n",
       "      <th>n_monthly_visits</th>\n",
       "      <th>monthly_products</th>\n",
       "      <th>total_charges</th>\n",
       "      <th>irrelevant_1</th>\n",
       "      <th>irrelevant_2</th>\n",
       "    </tr>\n",
       "  </thead>\n",
       "  <tbody>\n",
       "    <tr>\n",
       "      <th>0</th>\n",
       "      <td>67</td>\n",
       "      <td>2503</td>\n",
       "      <td>63</td>\n",
       "      <td>6</td>\n",
       "      <td>12.0</td>\n",
       "      <td>233761.47</td>\n",
       "      <td>0.45</td>\n",
       "      <td>1.24</td>\n",
       "    </tr>\n",
       "    <tr>\n",
       "      <th>1</th>\n",
       "      <td>39</td>\n",
       "      <td>791</td>\n",
       "      <td>22</td>\n",
       "      <td>9</td>\n",
       "      <td>2.0</td>\n",
       "      <td>9799.07</td>\n",
       "      <td>0.33</td>\n",
       "      <td>-1.35</td>\n",
       "    </tr>\n",
       "    <tr>\n",
       "      <th>2</th>\n",
       "      <td>58</td>\n",
       "      <td>2499</td>\n",
       "      <td>25</td>\n",
       "      <td>2</td>\n",
       "      <td>11.0</td>\n",
       "      <td>53397.44</td>\n",
       "      <td>0.97</td>\n",
       "      <td>-0.78</td>\n",
       "    </tr>\n",
       "    <tr>\n",
       "      <th>3</th>\n",
       "      <td>73</td>\n",
       "      <td>1761</td>\n",
       "      <td>32</td>\n",
       "      <td>1</td>\n",
       "      <td>7.0</td>\n",
       "      <td>59443.79</td>\n",
       "      <td>0.11</td>\n",
       "      <td>-0.39</td>\n",
       "    </tr>\n",
       "    <tr>\n",
       "      <th>4</th>\n",
       "      <td>32</td>\n",
       "      <td>1814</td>\n",
       "      <td>12</td>\n",
       "      <td>7</td>\n",
       "      <td>9.0</td>\n",
       "      <td>31474.97</td>\n",
       "      <td>0.22</td>\n",
       "      <td>0.80</td>\n",
       "    </tr>\n",
       "    <tr>\n",
       "      <th>...</th>\n",
       "      <td>...</td>\n",
       "      <td>...</td>\n",
       "      <td>...</td>\n",
       "      <td>...</td>\n",
       "      <td>...</td>\n",
       "      <td>...</td>\n",
       "      <td>...</td>\n",
       "      <td>...</td>\n",
       "    </tr>\n",
       "    <tr>\n",
       "      <th>3995</th>\n",
       "      <td>41</td>\n",
       "      <td>857</td>\n",
       "      <td>13</td>\n",
       "      <td>1</td>\n",
       "      <td>5.0</td>\n",
       "      <td>8138.96</td>\n",
       "      <td>0.50</td>\n",
       "      <td>-1.35</td>\n",
       "    </tr>\n",
       "    <tr>\n",
       "      <th>3996</th>\n",
       "      <td>45</td>\n",
       "      <td>1815</td>\n",
       "      <td>14</td>\n",
       "      <td>1</td>\n",
       "      <td>7.0</td>\n",
       "      <td>35799.04</td>\n",
       "      <td>0.43</td>\n",
       "      <td>-0.38</td>\n",
       "    </tr>\n",
       "    <tr>\n",
       "      <th>3997</th>\n",
       "      <td>20</td>\n",
       "      <td>959</td>\n",
       "      <td>9</td>\n",
       "      <td>4</td>\n",
       "      <td>5.0</td>\n",
       "      <td>11551.49</td>\n",
       "      <td>0.00</td>\n",
       "      <td>-0.80</td>\n",
       "    </tr>\n",
       "    <tr>\n",
       "      <th>3998</th>\n",
       "      <td>55</td>\n",
       "      <td>1813</td>\n",
       "      <td>46</td>\n",
       "      <td>9</td>\n",
       "      <td>3.0</td>\n",
       "      <td>91540.89</td>\n",
       "      <td>0.63</td>\n",
       "      <td>-1.66</td>\n",
       "    </tr>\n",
       "    <tr>\n",
       "      <th>3999</th>\n",
       "      <td>69</td>\n",
       "      <td>2064</td>\n",
       "      <td>29</td>\n",
       "      <td>7</td>\n",
       "      <td>6.0</td>\n",
       "      <td>38262.98</td>\n",
       "      <td>0.68</td>\n",
       "      <td>-0.12</td>\n",
       "    </tr>\n",
       "  </tbody>\n",
       "</table>\n",
       "<p>4000 rows × 8 columns</p>\n",
       "</div>"
      ],
      "text/plain": [
       "      age  monthly_charges  tenure  n_monthly_visits  monthly_products   \n",
       "0      67             2503      63                 6              12.0  \\\n",
       "1      39              791      22                 9               2.0   \n",
       "2      58             2499      25                 2              11.0   \n",
       "3      73             1761      32                 1               7.0   \n",
       "4      32             1814      12                 7               9.0   \n",
       "...   ...              ...     ...               ...               ...   \n",
       "3995   41              857      13                 1               5.0   \n",
       "3996   45             1815      14                 1               7.0   \n",
       "3997   20              959       9                 4               5.0   \n",
       "3998   55             1813      46                 9               3.0   \n",
       "3999   69             2064      29                 7               6.0   \n",
       "\n",
       "      total_charges  irrelevant_1  irrelevant_2  \n",
       "0         233761.47          0.45          1.24  \n",
       "1           9799.07          0.33         -1.35  \n",
       "2          53397.44          0.97         -0.78  \n",
       "3          59443.79          0.11         -0.39  \n",
       "4          31474.97          0.22          0.80  \n",
       "...             ...           ...           ...  \n",
       "3995        8138.96          0.50         -1.35  \n",
       "3996       35799.04          0.43         -0.38  \n",
       "3997       11551.49          0.00         -0.80  \n",
       "3998       91540.89          0.63         -1.66  \n",
       "3999       38262.98          0.68         -0.12  \n",
       "\n",
       "[4000 rows x 8 columns]"
      ]
     },
     "execution_count": 9,
     "metadata": {},
     "output_type": "execute_result"
    }
   ],
   "source": [
    "X"
   ]
  },
  {
   "cell_type": "code",
   "execution_count": 10,
   "id": "7c79f740",
   "metadata": {
    "ExecuteTime": {
     "end_time": "2023-05-19T22:31:30.501407Z",
     "start_time": "2023-05-19T22:31:30.488457Z"
    }
   },
   "outputs": [
    {
     "data": {
      "text/plain": [
       "0       0\n",
       "1       0\n",
       "2       0\n",
       "3       1\n",
       "4       0\n",
       "       ..\n",
       "3995    0\n",
       "3996    0\n",
       "3997    1\n",
       "3998    0\n",
       "3999    0\n",
       "Length: 4000, dtype: int32"
      ]
     },
     "execution_count": 10,
     "metadata": {},
     "output_type": "execute_result"
    }
   ],
   "source": [
    "y"
   ]
  },
  {
   "cell_type": "code",
   "execution_count": 11,
   "id": "3edcaf57",
   "metadata": {
    "ExecuteTime": {
     "end_time": "2023-05-19T22:31:30.516392Z",
     "start_time": "2023-05-19T22:31:30.503401Z"
    }
   },
   "outputs": [
    {
     "data": {
      "text/plain": [
       "0    3140\n",
       "1     860\n",
       "Name: count, dtype: int64"
      ]
     },
     "execution_count": 11,
     "metadata": {},
     "output_type": "execute_result"
    }
   ],
   "source": [
    "y.value_counts()"
   ]
  },
  {
   "cell_type": "code",
   "execution_count": 12,
   "id": "7caa4237",
   "metadata": {
    "ExecuteTime": {
     "end_time": "2023-05-19T22:31:30.532356Z",
     "start_time": "2023-05-19T22:31:30.518386Z"
    }
   },
   "outputs": [
    {
     "data": {
      "text/plain": [
       "array([0.215])"
      ]
     },
     "execution_count": 12,
     "metadata": {},
     "output_type": "execute_result"
    }
   ],
   "source": [
    "y.value_counts()[1] / y.shape"
   ]
  },
  {
   "cell_type": "code",
   "execution_count": 13,
   "id": "15c93a9a",
   "metadata": {
    "ExecuteTime": {
     "end_time": "2023-05-19T22:32:37.101524Z",
     "start_time": "2023-05-19T22:32:37.077098Z"
    }
   },
   "outputs": [],
   "source": [
    "X.to_csv('../datasets/churn_simulated/X.csv', index=False)"
   ]
  },
  {
   "cell_type": "code",
   "execution_count": 16,
   "id": "76f75e86",
   "metadata": {
    "ExecuteTime": {
     "end_time": "2023-05-19T22:41:26.772133Z",
     "start_time": "2023-05-19T22:41:26.756175Z"
    }
   },
   "outputs": [],
   "source": [
    "y.to_csv('../datasets/churn_simulated/y.csv', index=False, header=False)"
   ]
  },
  {
   "cell_type": "code",
   "execution_count": null,
   "id": "2778815b",
   "metadata": {},
   "outputs": [],
   "source": []
  }
 ],
 "metadata": {
  "kernelspec": {
   "display_name": "Python 3 (ipykernel)",
   "language": "python",
   "name": "python3"
  },
  "language_info": {
   "codemirror_mode": {
    "name": "ipython",
    "version": 3
   },
   "file_extension": ".py",
   "mimetype": "text/x-python",
   "name": "python",
   "nbconvert_exporter": "python",
   "pygments_lexer": "ipython3",
   "version": "3.10.9"
  },
  "toc": {
   "base_numbering": 1,
   "nav_menu": {},
   "number_sections": true,
   "sideBar": true,
   "skip_h1_title": false,
   "title_cell": "Table of Contents",
   "title_sidebar": "Contents",
   "toc_cell": false,
   "toc_position": {},
   "toc_section_display": true,
   "toc_window_display": false
  }
 },
 "nbformat": 4,
 "nbformat_minor": 5
}
